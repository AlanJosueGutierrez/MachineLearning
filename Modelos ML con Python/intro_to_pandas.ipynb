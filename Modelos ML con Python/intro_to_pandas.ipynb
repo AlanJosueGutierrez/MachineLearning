{
 "cells": [
  {
   "cell_type": "markdown",
   "id": "a1bb4598-97f7-4c27-ba9d-fb171bef4b5f",
   "metadata": {},
   "source": [
    "# Pandas\n",
    "Es una libreria de python para manipular datos unidimensionales o multidimensionales, a los datos unidimensionales se les denomina objetos y a los multidimensionales data frames"
   ]
  },
  {
   "cell_type": "markdown",
   "id": "186496c0-e878-4133-b116-757002e77b96",
   "metadata": {},
   "source": [
    "# Pandas Series Object"
   ]
  },
  {
   "cell_type": "code",
   "execution_count": 2,
   "id": "7f2e688b-1c28-418b-a048-80a534675a04",
   "metadata": {},
   "outputs": [
    {
     "data": {
      "text/plain": [
       "0    1\n",
       "1    2\n",
       "2    3\n",
       "3    4\n",
       "4    5\n",
       "dtype: int64"
      ]
     },
     "execution_count": 2,
     "metadata": {},
     "output_type": "execute_result"
    }
   ],
   "source": [
    "import pandas as pd\n",
    "s1=pd.Series([1,2,3,4,5])\n",
    "s1"
   ]
  },
  {
   "cell_type": "code",
   "execution_count": 3,
   "id": "5405ae19-a1a8-4ebf-8d6c-88b68f9b62bf",
   "metadata": {},
   "outputs": [
    {
     "data": {
      "text/plain": [
       "pandas.core.series.Series"
      ]
     },
     "execution_count": 3,
     "metadata": {},
     "output_type": "execute_result"
    }
   ],
   "source": [
    "type(s1)"
   ]
  },
  {
   "cell_type": "markdown",
   "id": "8b81d7fa-3400-4af2-bd53-1b6fc506928e",
   "metadata": {},
   "source": [
    "El indice comienza con 0"
   ]
  },
  {
   "cell_type": "code",
   "execution_count": 4,
   "id": "920b628e-d09c-4a69-bfb8-01a50c339d12",
   "metadata": {},
   "outputs": [
    {
     "data": {
      "text/plain": [
       "0      10\n",
       "1      30\n",
       "2      43\n",
       "3      12\n",
       "4    9382\n",
       "dtype: int64"
      ]
     },
     "execution_count": 4,
     "metadata": {},
     "output_type": "execute_result"
    }
   ],
   "source": [
    "s1 = pd.Series([10,30,43,12,9382])\n",
    "s1"
   ]
  },
  {
   "cell_type": "markdown",
   "id": "0a87147b-2e5d-4667-aeb9-6648b028e77a",
   "metadata": {},
   "source": [
    "# Cambiando Indice "
   ]
  },
  {
   "cell_type": "code",
   "execution_count": 5,
   "id": "4f562e27-21c1-47cf-8201-747126405b99",
   "metadata": {},
   "outputs": [
    {
     "data": {
      "text/plain": [
       "0    1\n",
       "1    2\n",
       "2    3\n",
       "3    4\n",
       "4    5\n",
       "dtype: int64"
      ]
     },
     "execution_count": 5,
     "metadata": {},
     "output_type": "execute_result"
    }
   ],
   "source": [
    "s1=pd.Series([1,2,3,4,5])\n",
    "s1"
   ]
  },
  {
   "cell_type": "code",
   "execution_count": 7,
   "id": "b2983dfe-8aad-4d04-b3c9-55acbb636a27",
   "metadata": {},
   "outputs": [
    {
     "data": {
      "text/plain": [
       "a    1\n",
       "b    2\n",
       "c    3\n",
       "d    4\n",
       "e    5\n",
       "dtype: int64"
      ]
     },
     "execution_count": 7,
     "metadata": {},
     "output_type": "execute_result"
    }
   ],
   "source": [
    "s1=pd.Series([1,2,3,4,5],index=['a','b','c','d','e'])\n",
    "s1"
   ]
  },
  {
   "cell_type": "code",
   "execution_count": 8,
   "id": "be581902-1c94-4809-9c4c-0abe1d869f00",
   "metadata": {},
   "outputs": [
    {
     "data": {
      "text/plain": [
       "spartaq    10\n",
       "hello      20\n",
       "world      30\n",
       "d          40\n",
       "e          50\n",
       "dtype: int64"
      ]
     },
     "execution_count": 8,
     "metadata": {},
     "output_type": "execute_result"
    }
   ],
   "source": [
    "s2=pd.Series([10,20,30,40,50],index=['spartaq','hello','world','d','e'])\n",
    "s2"
   ]
  },
  {
   "cell_type": "markdown",
   "id": "fef9521d-7c29-447b-ae45-8e64c5a4fdbc",
   "metadata": {},
   "source": [
    "# Series Object form Dictionary"
   ]
  },
  {
   "cell_type": "code",
   "execution_count": 11,
   "id": "4b540869-5d77-4bf5-95b4-5b6404afe1f8",
   "metadata": {},
   "outputs": [
    {
     "data": {
      "text/plain": [
       "a    10\n",
       "b    20\n",
       "c    30\n",
       "dtype: int64"
      ]
     },
     "execution_count": 11,
     "metadata": {},
     "output_type": "execute_result"
    }
   ],
   "source": [
    "s2=pd.Series({'a':10,'b':20,'c':30})\n",
    "s2"
   ]
  },
  {
   "cell_type": "markdown",
   "id": "cc6593ea-e89e-4eea-bc3b-267869f1d9b0",
   "metadata": {},
   "source": [
    "# Changing index position"
   ]
  },
  {
   "cell_type": "code",
   "execution_count": 14,
   "id": "821702d5-01dc-4aec-ac53-a4c971b9dbb2",
   "metadata": {},
   "outputs": [
    {
     "data": {
      "text/plain": [
       "d     NaN\n",
       "c    30.0\n",
       "a    10.0\n",
       "b    20.0\n",
       "dtype: float64"
      ]
     },
     "execution_count": 14,
     "metadata": {},
     "output_type": "execute_result"
    }
   ],
   "source": [
    "s2=pd.Series({'a':10,'b':20,'c':30},index=['d','c','a','b'])\n",
    "s2"
   ]
  },
  {
   "cell_type": "markdown",
   "id": "aa865938-84db-499d-946c-358e308d1b80",
   "metadata": {},
   "source": [
    "# Extracting Individual Object"
   ]
  },
  {
   "cell_type": "code",
   "execution_count": 17,
   "id": "2ed488e1-19a7-4b09-aa4d-5f5991d285ea",
   "metadata": {},
   "outputs": [
    {
     "data": {
      "text/plain": [
       "1"
      ]
     },
     "execution_count": 17,
     "metadata": {},
     "output_type": "execute_result"
    }
   ],
   "source": [
    "#Extracting a single element\n",
    "s1=pd.Series([1,2,3,4,5,6,7,8,9])\n",
    "s1[0]"
   ]
  },
  {
   "cell_type": "code",
   "execution_count": 24,
   "id": "bf194018-7229-430e-af4a-2bfbc3556c2f",
   "metadata": {},
   "outputs": [
    {
     "data": {
      "text/plain": [
       "4    5\n",
       "5    6\n",
       "6    7\n",
       "7    8\n",
       "8    9\n",
       "dtype: int64"
      ]
     },
     "execution_count": 24,
     "metadata": {},
     "output_type": "execute_result"
    }
   ],
   "source": [
    "#Extracting a sequence of elements\n",
    "s1=pd.Series([1,2,3,4,5,6,7,8,9])\n",
    "s1[4:9]#del 4 al 8"
   ]
  },
  {
   "cell_type": "code",
   "execution_count": 26,
   "id": "4b0501e5-7b41-4630-b227-9a84e74dbe1e",
   "metadata": {},
   "outputs": [
    {
     "data": {
      "text/plain": [
       "4    5\n",
       "5    6\n",
       "6    7\n",
       "7    8\n",
       "8    9\n",
       "dtype: int64"
      ]
     },
     "execution_count": 26,
     "metadata": {},
     "output_type": "execute_result"
    }
   ],
   "source": [
    "s1[4:]#desde el 4 y todos los demas"
   ]
  },
  {
   "cell_type": "code",
   "execution_count": 28,
   "id": "66cc2932-559f-4a73-b801-3f9fe9f57ef9",
   "metadata": {},
   "outputs": [
    {
     "data": {
      "text/plain": [
       "0    1\n",
       "1    2\n",
       "2    3\n",
       "3    4\n",
       "dtype: int64"
      ]
     },
     "execution_count": 28,
     "metadata": {},
     "output_type": "execute_result"
    }
   ],
   "source": [
    "s1[:4]#hasta el elemento 4-1"
   ]
  },
  {
   "cell_type": "code",
   "execution_count": 29,
   "id": "0a623e51-c246-4215-8d80-c3acc256b2b7",
   "metadata": {},
   "outputs": [
    {
     "data": {
      "text/plain": [
       "2    30\n",
       "3    40\n",
       "4    50\n",
       "dtype: int64"
      ]
     },
     "execution_count": 29,
     "metadata": {},
     "output_type": "execute_result"
    }
   ],
   "source": [
    "#Extracting elements from back\n",
    "s1=pd.Series([10,20,30,40,50])\n",
    "s1[-3:]#los ultimos 3 elementos"
   ]
  },
  {
   "cell_type": "markdown",
   "id": "a0fb2574-a54a-40eb-9dc7-cdcc2506ed6b",
   "metadata": {},
   "source": [
    "# Basic Math Operations on Series"
   ]
  },
  {
   "cell_type": "code",
   "execution_count": 36,
   "id": "e621eb36-1a40-40ea-94d0-c2054f564a73",
   "metadata": {},
   "outputs": [
    {
     "data": {
      "text/plain": [
       "0    11\n",
       "1    12\n",
       "2    13\n",
       "3    14\n",
       "4    15\n",
       "5    16\n",
       "6    17\n",
       "7    18\n",
       "8    19\n",
       "dtype: int64"
      ]
     },
     "execution_count": 36,
     "metadata": {},
     "output_type": "execute_result"
    }
   ],
   "source": [
    "s1=pd.Series([6,7,8,9,10,11,12,13,14])\n",
    "s1+5"
   ]
  },
  {
   "cell_type": "code",
   "execution_count": 37,
   "id": "b04c2300-1394-4828-aba2-1c82fbed95dd",
   "metadata": {},
   "outputs": [],
   "source": [
    "s1 = pd.Series([1,2,3,4,5,6,7,8,9])\n",
    "s2 = pd.Series([10,20,30,40,50,60,70,80,90])"
   ]
  },
  {
   "cell_type": "code",
   "execution_count": 38,
   "id": "5b2a78ca-2c06-4770-acb3-f9246c5d220a",
   "metadata": {},
   "outputs": [
    {
     "data": {
      "text/plain": [
       "0    11\n",
       "1    22\n",
       "2    33\n",
       "3    44\n",
       "4    55\n",
       "5    66\n",
       "6    77\n",
       "7    88\n",
       "8    99\n",
       "dtype: int64"
      ]
     },
     "execution_count": 38,
     "metadata": {},
     "output_type": "execute_result"
    }
   ],
   "source": [
    "s1+s2"
   ]
  },
  {
   "cell_type": "code",
   "execution_count": 39,
   "id": "9ad8cc80-6712-4449-8f1b-9264fd744e24",
   "metadata": {},
   "outputs": [
    {
     "data": {
      "text/plain": [
       "0    10\n",
       "1    20\n",
       "2    30\n",
       "3    40\n",
       "4    50\n",
       "5    60\n",
       "6    70\n",
       "7    80\n",
       "8    90\n",
       "dtype: int64"
      ]
     },
     "execution_count": 39,
     "metadata": {},
     "output_type": "execute_result"
    }
   ],
   "source": [
    "s1*10"
   ]
  },
  {
   "cell_type": "code",
   "execution_count": 40,
   "id": "ce68e48f-9ce8-4d28-b7af-22238f316bb1",
   "metadata": {},
   "outputs": [
    {
     "data": {
      "text/plain": [
       "(0    1\n",
       " 1    2\n",
       " 2    3\n",
       " 3    4\n",
       " 4    5\n",
       " 5    6\n",
       " 6    7\n",
       " 7    8\n",
       " 8    9\n",
       " dtype: int64,\n",
       " 0    10\n",
       " 1    20\n",
       " 2    30\n",
       " 3    40\n",
       " 4    50\n",
       " 5    60\n",
       " 6    70\n",
       " 7    80\n",
       " 8    90\n",
       " dtype: int64)"
      ]
     },
     "execution_count": 40,
     "metadata": {},
     "output_type": "execute_result"
    }
   ],
   "source": [
    "s1,s2"
   ]
  },
  {
   "cell_type": "code",
   "execution_count": 41,
   "id": "fb6e32bb-eb7a-4b52-a7eb-1b5645b2d212",
   "metadata": {},
   "outputs": [
    {
     "data": {
      "text/plain": [
       "0     10\n",
       "1     40\n",
       "2     90\n",
       "3    160\n",
       "4    250\n",
       "5    360\n",
       "6    490\n",
       "7    640\n",
       "8    810\n",
       "dtype: int64"
      ]
     },
     "execution_count": 41,
     "metadata": {},
     "output_type": "execute_result"
    }
   ],
   "source": [
    "s1*s2"
   ]
  },
  {
   "cell_type": "code",
   "execution_count": null,
   "id": "1f93bef5-c6d3-4c28-9089-e478d0c86096",
   "metadata": {},
   "outputs": [],
   "source": []
  }
 ],
 "metadata": {
  "kernelspec": {
   "display_name": "Python 3 (ipykernel)",
   "language": "python",
   "name": "python3"
  },
  "language_info": {
   "codemirror_mode": {
    "name": "ipython",
    "version": 3
   },
   "file_extension": ".py",
   "mimetype": "text/x-python",
   "name": "python",
   "nbconvert_exporter": "python",
   "pygments_lexer": "ipython3",
   "version": "3.9.7"
  }
 },
 "nbformat": 4,
 "nbformat_minor": 5
}
