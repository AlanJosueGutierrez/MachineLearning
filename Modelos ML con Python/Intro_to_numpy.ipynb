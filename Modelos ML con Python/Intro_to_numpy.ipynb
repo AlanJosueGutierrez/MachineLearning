{
 "cells": [
  {
   "cell_type": "code",
   "execution_count": 1,
   "id": "0f142855-7ce3-446e-b3a9-b26691cf6f24",
   "metadata": {},
   "outputs": [],
   "source": [
    "import numpy as np"
   ]
  },
  {
   "cell_type": "code",
   "execution_count": 2,
   "id": "e5f1e63a-9087-4792-8a23-e192b23fee2d",
   "metadata": {},
   "outputs": [
    {
     "name": "stdout",
     "output_type": "stream",
     "text": [
      "[1 2 3]\n"
     ]
    }
   ],
   "source": [
    "n1= np.array([1,2,3])\n",
    "print(n1)"
   ]
  },
  {
   "cell_type": "code",
   "execution_count": 3,
   "id": "515506be-b4b0-4e30-abb9-5e34f0d372e1",
   "metadata": {},
   "outputs": [
    {
     "name": "stdout",
     "output_type": "stream",
     "text": [
      "[[1 2 3]\n",
      " [4 5 6]\n",
      " [7 8 9]]\n"
     ]
    }
   ],
   "source": [
    "n2=np.array([[1,2,3],[4,5,6],[7,8,9]])\n",
    "print(n2)"
   ]
  },
  {
   "cell_type": "code",
   "execution_count": 4,
   "id": "4d303ff9-277d-4012-b5cd-87fbaae4ca06",
   "metadata": {},
   "outputs": [
    {
     "name": "stdout",
     "output_type": "stream",
     "text": [
      "[[0. 0. 0.]]\n"
     ]
    }
   ],
   "source": [
    "n0=np.zeros((1,3))\n",
    "print(n0)"
   ]
  },
  {
   "cell_type": "code",
   "execution_count": 5,
   "id": "2b2f7633-c601-4803-a102-57fb253c66f9",
   "metadata": {},
   "outputs": [
    {
     "data": {
      "text/plain": [
       "array([[0., 0., 0.],\n",
       "       [0., 0., 0.]])"
      ]
     },
     "execution_count": 5,
     "metadata": {},
     "output_type": "execute_result"
    }
   ],
   "source": [
    "n3=np.zeros((2,3))\n",
    "n3"
   ]
  },
  {
   "cell_type": "code",
   "execution_count": 6,
   "id": "cedbf753-e117-4902-97ab-9705adf61171",
   "metadata": {},
   "outputs": [
    {
     "data": {
      "text/plain": [
       "array([[0., 0., 0., 0., 0., 0.],\n",
       "       [0., 0., 0., 0., 0., 0.],\n",
       "       [0., 0., 0., 0., 0., 0.],\n",
       "       [0., 0., 0., 0., 0., 0.],\n",
       "       [0., 0., 0., 0., 0., 0.],\n",
       "       [0., 0., 0., 0., 0., 0.]])"
      ]
     },
     "execution_count": 6,
     "metadata": {},
     "output_type": "execute_result"
    }
   ],
   "source": [
    "n4=np.zeros((6,6))\n",
    "n4"
   ]
  },
  {
   "cell_type": "code",
   "execution_count": 7,
   "id": "85829a30-1c37-40f9-9ec3-dc1cdadd7abc",
   "metadata": {},
   "outputs": [
    {
     "data": {
      "text/plain": [
       "array([[5, 5, 5, 5],\n",
       "       [5, 5, 5, 5],\n",
       "       [5, 5, 5, 5]])"
      ]
     },
     "execution_count": 7,
     "metadata": {},
     "output_type": "execute_result"
    }
   ],
   "source": [
    "n5=np.full((3,4),5)\n",
    "n5"
   ]
  },
  {
   "cell_type": "code",
   "execution_count": 8,
   "id": "a20d616f-cd18-4a5b-b212-ac9bb999167b",
   "metadata": {},
   "outputs": [
    {
     "data": {
      "text/plain": [
       "array([10, 11, 12, 13, 14, 15, 16, 17, 18, 19])"
      ]
     },
     "execution_count": 8,
     "metadata": {},
     "output_type": "execute_result"
    }
   ],
   "source": [
    "n6=np.arange(10,20)\n",
    "n6"
   ]
  },
  {
   "cell_type": "code",
   "execution_count": 9,
   "id": "66dbf90e-3ecf-4424-8fd1-fd5a44bf06f5",
   "metadata": {},
   "outputs": [
    {
     "data": {
      "text/plain": [
       "array([10, 15, 20, 25, 30, 35, 40, 45])"
      ]
     },
     "execution_count": 9,
     "metadata": {},
     "output_type": "execute_result"
    }
   ],
   "source": [
    "n7=np.arange(10,50,5)\n",
    "n7"
   ]
  },
  {
   "cell_type": "code",
   "execution_count": 11,
   "id": "78d1dfe4-200f-4920-8657-f05d8a2acff3",
   "metadata": {},
   "outputs": [
    {
     "data": {
      "text/plain": [
       "array([10, 11, 12, 13, 14, 15, 16, 17, 18, 19, 20])"
      ]
     },
     "execution_count": 11,
     "metadata": {},
     "output_type": "execute_result"
    }
   ],
   "source": [
    "n8=np.arange(10,21)\n",
    "n8"
   ]
  },
  {
   "cell_type": "code",
   "execution_count": 14,
   "id": "f4f77ad6-f7e2-4947-b011-603436d2aa53",
   "metadata": {},
   "outputs": [
    {
     "data": {
      "text/plain": [
       "array([  0,  10,  20,  30,  40,  50,  60,  70,  80,  90, 100])"
      ]
     },
     "execution_count": 14,
     "metadata": {},
     "output_type": "execute_result"
    }
   ],
   "source": [
    "n9 = np.arange(0,101,10)\n",
    "n9"
   ]
  },
  {
   "cell_type": "code",
   "execution_count": 18,
   "id": "1a4366d8-5c47-4cdf-98de-20cdf489d724",
   "metadata": {},
   "outputs": [
    {
     "data": {
      "text/plain": [
       "array([1, 0, 0, 0, 0, 1, 1, 0, 1, 0, 0, 1, 0, 0, 0, 1, 0, 0, 0, 1, 0, 1,\n",
       "       0, 1, 1, 1, 0, 1, 0, 0, 0, 1, 0, 1, 1, 0, 1, 1, 0, 0, 1, 1, 1, 1,\n",
       "       1, 1, 0, 0, 1, 0])"
      ]
     },
     "execution_count": 18,
     "metadata": {},
     "output_type": "execute_result"
    }
   ],
   "source": [
    "n10 = np.random.randint(0,2,50)\n",
    "n10"
   ]
  },
  {
   "cell_type": "code",
   "execution_count": 20,
   "id": "f396688e-4281-4351-8e7d-0b2e17682fcc",
   "metadata": {},
   "outputs": [
    {
     "data": {
      "text/plain": [
       "(2, 3)"
      ]
     },
     "execution_count": 20,
     "metadata": {},
     "output_type": "execute_result"
    }
   ],
   "source": [
    "n3.shape"
   ]
  },
  {
   "cell_type": "code",
   "execution_count": 26,
   "id": "f51de79c-4aae-4531-831e-a22487caf5b6",
   "metadata": {},
   "outputs": [],
   "source": [
    "n11=np.array([[1,4,5,6,7,2,4,5,24,6,9],[1,2,3,1,2,3,45,3,6,5,22]])"
   ]
  },
  {
   "cell_type": "code",
   "execution_count": 27,
   "id": "b42a078d-43ec-4682-8d2e-1eee6e9d9bdb",
   "metadata": {},
   "outputs": [
    {
     "data": {
      "text/plain": [
       "(2, 11)"
      ]
     },
     "execution_count": 27,
     "metadata": {},
     "output_type": "execute_result"
    }
   ],
   "source": [
    "n11.shape"
   ]
  },
  {
   "cell_type": "code",
   "execution_count": 29,
   "id": "293cbad8-f93d-4455-8b5b-e4072e87e8d4",
   "metadata": {},
   "outputs": [
    {
     "data": {
      "text/plain": [
       "array([[ 1,  4],\n",
       "       [ 5,  6],\n",
       "       [ 7,  2],\n",
       "       [ 4,  5],\n",
       "       [24,  6],\n",
       "       [ 9,  1],\n",
       "       [ 2,  3],\n",
       "       [ 1,  2],\n",
       "       [ 3, 45],\n",
       "       [ 3,  6],\n",
       "       [ 5, 22]])"
      ]
     },
     "execution_count": 29,
     "metadata": {},
     "output_type": "execute_result"
    }
   ],
   "source": [
    "n11.shape = (11,2)\n",
    "n11"
   ]
  },
  {
   "cell_type": "markdown",
   "id": "1dd1c71a-b64f-432e-8ec3-485dcacc3658",
   "metadata": {},
   "source": [
    "# Uniendo arrays con Numpy"
   ]
  },
  {
   "cell_type": "code",
   "execution_count": 43,
   "id": "6f4c5abd-4f8c-41b0-92ff-1d04c1f76e14",
   "metadata": {},
   "outputs": [],
   "source": [
    "n1=np.array([1,2,3])\n",
    "n2=np.array([7,8,9])\n",
    "n3=np.array([10,11,12])"
   ]
  },
  {
   "cell_type": "code",
   "execution_count": 44,
   "id": "97c2c3a5-0bca-4299-bc1f-a688b96903fa",
   "metadata": {},
   "outputs": [
    {
     "data": {
      "text/plain": [
       "array([[ 1,  2,  3],\n",
       "       [ 7,  8,  9],\n",
       "       [10, 11, 12]])"
      ]
     },
     "execution_count": 44,
     "metadata": {},
     "output_type": "execute_result"
    }
   ],
   "source": [
    "np.vstack((n1,n2,n3))"
   ]
  },
  {
   "cell_type": "code",
   "execution_count": 37,
   "id": "6f873286-8197-46d6-a535-76063864c46c",
   "metadata": {},
   "outputs": [
    {
     "data": {
      "text/plain": [
       "array([1, 2, 3, 7, 8, 9])"
      ]
     },
     "execution_count": 37,
     "metadata": {},
     "output_type": "execute_result"
    }
   ],
   "source": [
    "np.hstack((n1,n2))"
   ]
  },
  {
   "cell_type": "code",
   "execution_count": 45,
   "id": "3a7b8c6a-b5b2-4a18-85e8-6d814a86055a",
   "metadata": {},
   "outputs": [
    {
     "data": {
      "text/plain": [
       "array([[ 1,  7, 10],\n",
       "       [ 2,  8, 11],\n",
       "       [ 3,  9, 12]])"
      ]
     },
     "execution_count": 45,
     "metadata": {},
     "output_type": "execute_result"
    }
   ],
   "source": [
    "np.column_stack((n1,n2,n3))"
   ]
  },
  {
   "cell_type": "markdown",
   "id": "ab8e1049-158e-48dd-85d8-5da50a91351c",
   "metadata": {},
   "source": [
    "# Intersección y diferencia con Numpy"
   ]
  },
  {
   "cell_type": "code",
   "execution_count": 47,
   "id": "e11be62b-828a-45e1-a1f5-5647885fc856",
   "metadata": {},
   "outputs": [
    {
     "data": {
      "text/plain": [
       "array([2, 3, 4])"
      ]
     },
     "execution_count": 47,
     "metadata": {},
     "output_type": "execute_result"
    }
   ],
   "source": [
    "\n",
    "n1=np.array([1,2,3,4])\n",
    "n2=np.array([20,10,3,2,4])\n",
    "np.intersect1d(n1,n2)"
   ]
  },
  {
   "cell_type": "code",
   "execution_count": 48,
   "id": "b835c4c1-dd6b-4e8f-a378-20fbea31180a",
   "metadata": {},
   "outputs": [
    {
     "data": {
      "text/plain": [
       "array([1])"
      ]
     },
     "execution_count": 48,
     "metadata": {},
     "output_type": "execute_result"
    }
   ],
   "source": [
    "np.setdiff1d(n1,n2)"
   ]
  },
  {
   "cell_type": "code",
   "execution_count": 49,
   "id": "a1ba78d1-cf2f-4419-a386-7123801d1d2b",
   "metadata": {},
   "outputs": [
    {
     "data": {
      "text/plain": [
       "array([10, 20])"
      ]
     },
     "execution_count": 49,
     "metadata": {},
     "output_type": "execute_result"
    }
   ],
   "source": [
    "np.setdiff1d(n2,n1)"
   ]
  },
  {
   "cell_type": "markdown",
   "id": "3b4a2cbf-8326-45cb-959b-75f025e1d8a7",
   "metadata": {},
   "source": [
    "# Suma de arrays con Numpy"
   ]
  },
  {
   "cell_type": "code",
   "execution_count": 54,
   "id": "a0326198-a57b-47e7-bd87-3b9eceb46aed",
   "metadata": {},
   "outputs": [
    {
     "data": {
      "text/plain": [
       "36"
      ]
     },
     "execution_count": 54,
     "metadata": {},
     "output_type": "execute_result"
    }
   ],
   "source": [
    "n1=np.array([1,3,5,7])\n",
    "n2=np.array([2,4,6,8])\n",
    "np.sum([n1,n2])"
   ]
  },
  {
   "cell_type": "code",
   "execution_count": 53,
   "id": "2ca7d57f-b2f5-45cd-8e46-de2d73bf1070",
   "metadata": {},
   "outputs": [
    {
     "data": {
      "text/plain": [
       "array([ 3,  7, 11, 15])"
      ]
     },
     "execution_count": 53,
     "metadata": {},
     "output_type": "execute_result"
    }
   ],
   "source": [
    "#suma elemento a elemnto de los diferentes arrays\n",
    "np.sum([n1,n2],axis=0)"
   ]
  },
  {
   "cell_type": "code",
   "execution_count": 55,
   "id": "ce6713d9-d507-4e6a-ab15-a4e10922f05b",
   "metadata": {},
   "outputs": [
    {
     "data": {
      "text/plain": [
       "array([16, 20])"
      ]
     },
     "execution_count": 55,
     "metadata": {},
     "output_type": "execute_result"
    }
   ],
   "source": [
    "#regresa la suma de cada array\n",
    "np.sum([n1,n2],axis=1)"
   ]
  },
  {
   "cell_type": "markdown",
   "id": "b0ba0ac3-b1fc-4144-98ae-b5c67ca3a178",
   "metadata": {},
   "source": [
    "# Matematicas"
   ]
  },
  {
   "cell_type": "code",
   "execution_count": 56,
   "id": "0ce1cd0d-016a-4ff2-a431-885698f9b69e",
   "metadata": {},
   "outputs": [
    {
     "data": {
      "text/plain": [
       "array([2, 4, 6, 8])"
      ]
     },
     "execution_count": 56,
     "metadata": {},
     "output_type": "execute_result"
    }
   ],
   "source": [
    "#suma basica\n",
    "#suma 1 a cada elemeneto de cada array\n",
    "n1=n1+1\n",
    "n1"
   ]
  },
  {
   "cell_type": "code",
   "execution_count": 57,
   "id": "db2c8aa4-7e16-4eda-ac18-aeaffcf458d2",
   "metadata": {},
   "outputs": [
    {
     "data": {
      "text/plain": [
       "array([1, 3, 5, 7])"
      ]
     },
     "execution_count": 57,
     "metadata": {},
     "output_type": "execute_result"
    }
   ],
   "source": [
    "n1=n1-1\n",
    "n1"
   ]
  },
  {
   "cell_type": "code",
   "execution_count": 58,
   "id": "aaf76240-8152-446a-8819-ec8800bc71b5",
   "metadata": {},
   "outputs": [
    {
     "data": {
      "text/plain": [
       "array([ 2,  6, 10, 14])"
      ]
     },
     "execution_count": 58,
     "metadata": {},
     "output_type": "execute_result"
    }
   ],
   "source": [
    "#multiplica por 2 cada elemento del array\n",
    "n1=n1*2\n",
    "n1"
   ]
  },
  {
   "cell_type": "code",
   "execution_count": 59,
   "id": "f7b1526e-8742-400f-8519-ba85acecb1a2",
   "metadata": {},
   "outputs": [
    {
     "data": {
      "text/plain": [
       "array([1., 3., 5., 7.])"
      ]
     },
     "execution_count": 59,
     "metadata": {},
     "output_type": "execute_result"
    }
   ],
   "source": [
    "n1=n1/2\n",
    "n1"
   ]
  },
  {
   "cell_type": "markdown",
   "id": "973aae70-bf2c-4405-8622-dc9e1e1015f4",
   "metadata": {},
   "source": [
    "# Funciones matematicas"
   ]
  },
  {
   "cell_type": "code",
   "execution_count": 60,
   "id": "94720d78-3bba-4381-b0fd-c74f6647da9c",
   "metadata": {},
   "outputs": [
    {
     "data": {
      "text/plain": [
       "4.0"
      ]
     },
     "execution_count": 60,
     "metadata": {},
     "output_type": "execute_result"
    }
   ],
   "source": [
    "#promedio\n",
    "np.mean(n1)"
   ]
  },
  {
   "cell_type": "code",
   "execution_count": 61,
   "id": "49a57c0d-b8b6-456d-90fb-39deaea71562",
   "metadata": {},
   "outputs": [
    {
     "data": {
      "text/plain": [
       "4.0"
      ]
     },
     "execution_count": 61,
     "metadata": {},
     "output_type": "execute_result"
    }
   ],
   "source": [
    "#media\n",
    "np.median(n1)"
   ]
  },
  {
   "cell_type": "code",
   "execution_count": 62,
   "id": "e0dee411-152b-44ca-859c-4652f100c72e",
   "metadata": {},
   "outputs": [
    {
     "data": {
      "text/plain": [
       "2.23606797749979"
      ]
     },
     "execution_count": 62,
     "metadata": {},
     "output_type": "execute_result"
    }
   ],
   "source": [
    "#desviación estándar\n",
    "np.std(n1)"
   ]
  },
  {
   "cell_type": "markdown",
   "id": "08d5fc2a-19b3-47ea-859d-ede61f996df6",
   "metadata": {},
   "source": [
    "# Como guardar e importar datos\n",
    "previamente se debe tener\n",
    "import numpy as np"
   ]
  },
  {
   "cell_type": "code",
   "execution_count": 64,
   "id": "a4abeacb-91c0-4b6a-9e70-dd954178c3b3",
   "metadata": {},
   "outputs": [],
   "source": [
    "n1=np.array([10,20,30,40,50,60])\n",
    "np.save('my_numpy', n1)"
   ]
  },
  {
   "cell_type": "code",
   "execution_count": 66,
   "id": "16ee456a-562c-4ba6-852f-bb32af9c8b68",
   "metadata": {},
   "outputs": [
    {
     "data": {
      "text/plain": [
       "array([10, 20, 30, 40, 50, 60])"
      ]
     },
     "execution_count": 66,
     "metadata": {},
     "output_type": "execute_result"
    }
   ],
   "source": [
    "n2=np.load('my_numpy.npy')\n",
    "n2"
   ]
  },
  {
   "cell_type": "code",
   "execution_count": null,
   "id": "7fe1b5e0-a27f-4ff0-aec0-e2853c6675a3",
   "metadata": {},
   "outputs": [],
   "source": []
  }
 ],
 "metadata": {
  "kernelspec": {
   "display_name": "Python 3 (ipykernel)",
   "language": "python",
   "name": "python3"
  },
  "language_info": {
   "codemirror_mode": {
    "name": "ipython",
    "version": 3
   },
   "file_extension": ".py",
   "mimetype": "text/x-python",
   "name": "python",
   "nbconvert_exporter": "python",
   "pygments_lexer": "ipython3",
   "version": "3.9.7"
  }
 },
 "nbformat": 4,
 "nbformat_minor": 5
}
